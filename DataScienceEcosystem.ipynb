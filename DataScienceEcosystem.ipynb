{
 "cells": [
  {
   "cell_type": "markdown",
   "id": "5fc8ca87-1033-4e4a-94b9-dcc380aae0f7",
   "metadata": {},
   "source": [
    "<center>\n",
    "    <img src=\"https://cf-courses-data.s3.us.cloud-object-storage.appdomain.cloud/IBMDeveloperSkillsNetwork-DS0105EN-SkillsNetwork/labs/Module2/images/SN_web_lightmode.png\" width=\"300\" alt=\"cognitiveclass.ai logo\">\n",
    "</center>\n"
   ]
  },
  {
   "cell_type": "markdown",
   "id": "22ddb718-927d-46fe-87ad-cec33e2eba4a",
   "metadata": {},
   "source": [
    "# Data Science Tools and Ecosystem"
   ]
  },
  {
   "cell_type": "markdown",
   "id": "c279c306-f149-47d5-908e-7ce8adef8640",
   "metadata": {},
   "source": [
    "In this notebook, Data Science Tools and Ecosystem are summarized."
   ]
  },
  {
   "cell_type": "markdown",
   "id": "e80de94b-f2a0-4140-88a6-41e36c82e311",
   "metadata": {},
   "source": [
    "Some of the popular languages that Data Scientists use are:\n",
    "1. Python\n",
    "2. R\n",
    "3. SQl"
   ]
  },
  {
   "cell_type": "markdown",
   "id": "d552f132-fb98-458d-ad7f-3fa9261a2b07",
   "metadata": {},
   "source": [
    "Some of the commonly used libraries used by Data Scientists include:\n",
    "1. pandas\n",
    "2. matplotlib\n",
    "3. scikit-learn\n",
    "4. tensorflow"
   ]
  },
  {
   "cell_type": "markdown",
   "id": "2bf22dff-5dc2-46af-8e99-b651bd0ee948",
   "metadata": {},
   "source": [
    "**Objectives :**\n",
    "- Python\n",
    "- R\n",
    "- SQL"
   ]
  },
  {
   "cell_type": "markdown",
   "id": "def5ef21-4463-411d-a3a0-d91564a2719b",
   "metadata": {},
   "source": [
    "| Data Science Tools |\n",
    "----\n",
    "| Jupyter Lab |\n",
    "| PostgreSQL |\n",
    "| RStudio |"
   ]
  },
  {
   "cell_type": "markdown",
   "id": "481a2c02-49e6-43e4-b522-cdf0dfa0f14d",
   "metadata": {},
   "source": [
    "### Below are a few examples of evaluating arithmetic expressions in Python"
   ]
  },
  {
   "cell_type": "code",
   "execution_count": 1,
   "id": "dd815460-e87e-490a-b60f-3307ddbfa761",
   "metadata": {
    "tags": []
   },
   "outputs": [
    {
     "data": {
      "text/plain": [
       "17"
      ]
     },
     "execution_count": 1,
     "metadata": {},
     "output_type": "execute_result"
    }
   ],
   "source": [
    "(3*4)+5 #This a simple arithmetic expression to mutiply then add integers"
   ]
  },
  {
   "cell_type": "code",
   "execution_count": 7,
   "id": "4b198ce2-625d-4c8d-820c-740468f1c698",
   "metadata": {
    "tags": []
   },
   "outputs": [
    {
     "name": "stdout",
     "output_type": "stream",
     "text": [
      "3.3333333333333335\n"
     ]
    }
   ],
   "source": [
    "minutes = 200\n",
    "hours = minutes/60 #This will convert 200 minutes to hours by diving by 60\n",
    "print(hours)"
   ]
  },
  {
   "cell_type": "markdown",
   "id": "fe3329d3-083b-4d1e-bc72-b0971f53c6d3",
   "metadata": {},
   "source": [
    "## Author\n",
    "Lutfi Kurrotaeni"
   ]
  },
  {
   "cell_type": "code",
   "execution_count": null,
   "id": "292a0d0a-2bc3-41af-9823-d32bcff514c2",
   "metadata": {},
   "outputs": [],
   "source": []
  }
 ],
 "metadata": {
  "kernelspec": {
   "display_name": "Python",
   "language": "python",
   "name": "conda-env-python-py"
  },
  "language_info": {
   "codemirror_mode": {
    "name": "ipython",
    "version": 3
   },
   "file_extension": ".py",
   "mimetype": "text/x-python",
   "name": "python",
   "nbconvert_exporter": "python",
   "pygments_lexer": "ipython3",
   "version": "3.7.12"
  }
 },
 "nbformat": 4,
 "nbformat_minor": 5
}
